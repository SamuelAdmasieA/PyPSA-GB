{
 "cells": [
  {
   "cell_type": "markdown",
   "metadata": {},
   "source": [
    "# Future Years"
   ]
  },
  {
   "cell_type": "markdown",
   "metadata": {},
   "source": [
    "PyPSA-GB can model the GB power system  by solving a network constrained Linear Optimal Power Flow (LOPF) problem. This notebook shows the example application of a FES 2022."
   ]
  },
  {
   "cell_type": "code",
   "execution_count": null,
   "metadata": {},
   "outputs": [],
   "source": [
    "import os\n",
    "from dotenv import find_dotenv, load_dotenv\n",
    "\n",
    "load_dotenv(find_dotenv())\n",
    "src_path = os.environ.get('PROJECT_SRC')\n",
    "os.chdir(src_path)"
   ]
  },
  {
   "cell_type": "code",
   "execution_count": null,
   "metadata": {},
   "outputs": [],
   "source": [
    "import pypsa\n",
    "import matplotlib.pyplot as plt\n",
    "plt.rcParams.update({'font.size': 22})\n",
    "plt.style.use('ggplot')\n",
    "import pandas as pd\n",
    "import cartopy.crs as ccrs\n",
    "import data_reader_writer"
   ]
  },
  {
   "cell_type": "markdown",
   "metadata": {},
   "source": [
    "## Setting up simulation"
   ]
  },
  {
   "cell_type": "markdown",
   "metadata": {},
   "source": [
    "Set the required inputs for the LOPF: the start, end and year of simulation, and the timestep."
   ]
  },
  {
   "cell_type": "code",
   "execution_count": null,
   "metadata": {},
   "outputs": [],
   "source": [
    "network = pypsa.Network()\n",
    "network.import_from_csv_folder('LOPF_data_heat_2022')"
   ]
  },
  {
   "cell_type": "code",
   "execution_count": null,
   "metadata": {},
   "outputs": [],
   "source": [
    "for i in range(29):\n",
    "    network.add(\n",
    "        \"Generator\",\n",
    "        \"boiler {}\".format(i+1),\n",
    "       bus='Heat Bus {}'.format(i+1),\n",
    "       p_nom_extendable=True,\n",
    "        ramp_limit_up=1,\n",
    "        ramp_limit_down=1,\n",
    "        efficiency=0.80,\n",
    "        marginal_cost=20.0,\n",
    "        carrier=\"heat\",\n",
    "    )"
   ]
  },
  {
   "cell_type": "markdown",
   "metadata": {},
   "source": [
    "Links need to be scaled up to accomadate for future generation."
   ]
  },
  {
   "cell_type": "code",
   "execution_count": null,
   "metadata": {},
   "outputs": [],
   "source": [
    "contingency_factor = 0.7\n",
    "network.lines.s_max_pu *= contingency_factor"
   ]
  },
  {
   "cell_type": "code",
   "execution_count": null,
   "metadata": {
    "scrolled": true
   },
   "outputs": [],
   "source": [
    "network.generators"
   ]
  },
  {
   "cell_type": "code",
   "execution_count": null,
   "metadata": {},
   "outputs": [],
   "source": [
    "network.consistency_check()"
   ]
  },
  {
   "cell_type": "code",
   "execution_count": null,
   "metadata": {},
   "outputs": [],
   "source": [
    "network.generators_t.p_max_pu"
   ]
  },
  {
   "cell_type": "code",
   "execution_count": null,
   "metadata": {},
   "outputs": [],
   "source": [
    "#network.model\n",
    "network.optimize.create_model()"
   ]
  },
  {
   "cell_type": "code",
   "execution_count": null,
   "metadata": {},
   "outputs": [],
   "source": [
    "\n",
    "#network.model.constraints.remove(\"Kirchhoff-Voltage-Law\")\n",
    "\n",
    "def remove_kvl(network, sns):\n",
    "    print(\"KVL removed!\")\n",
    "    network.model.constraints.remove(\"Kirchhoff-Voltage-Law\")\n",
    "\n",
    "network.optimize(solver_name='gurobi',extra_functionality=remove_kvl)"
   ]
  },
  {
   "cell_type": "code",
   "execution_count": null,
   "metadata": {},
   "outputs": [],
   "source": [
    "#network.optimize.solve_model()"
   ]
  },
  {
   "cell_type": "markdown",
   "metadata": {},
   "source": [
    "## Running the optimisation"
   ]
  },
  {
   "cell_type": "code",
   "execution_count": null,
   "metadata": {},
   "outputs": [],
   "source": [
    "#network.lopf(network.snapshots, solver_name=\"gurobi\", pyomo=False)\n",
    "#network.optimize(solver_name='gurobi')  # "
   ]
  },
  {
   "cell_type": "code",
   "execution_count": null,
   "metadata": {
    "scrolled": true
   },
   "outputs": [],
   "source": [
    "network.generators.p_nom_opt.div(1e3) # GW  optimised capacity of generators in GW\n",
    "network.storage_units.p_nom_opt.div(1e3)  # GW \n",
    "#My_network.links_t.efficiency \n",
    "network.storage_units"
   ]
  },
  {
   "cell_type": "code",
   "execution_count": null,
   "metadata": {},
   "outputs": [],
   "source": [
    "network.storage_units.index[120:150]\n",
    "#network.storage_units.p_nom_opt[4:33].div(1e3).values"
   ]
  },
  {
   "cell_type": "code",
   "execution_count": null,
   "metadata": {},
   "outputs": [],
   "source": [
    "plt.figure(figsize=(19,11))\n",
    "plt.bar(network.storage_units.index[:4], network.storage_units.p_nom_opt[:4].div(1e3).values)\n",
    "\n",
    "plt.xticks(network.storage_units.index[:4], rotation=90)\n",
    "plt.ylabel('GW')\n",
    "plt.grid(color='grey', linewidth=1, axis='both', alpha=0.5)\n",
    "plt.title('Optimal Sizing of Pumped Hydroelectric Storage')\n",
    "plt.show()"
   ]
  },
  {
   "cell_type": "code",
   "execution_count": null,
   "metadata": {},
   "outputs": [],
   "source": [
    "plt.figure(figsize=(19,11))\n",
    "plt.bar(network.storage_units.index[4:33], network.storage_units.p_nom_opt[4:33].div(1e3).values)\n",
    "\n",
    "plt.xticks(network.storage_units.index[4:33], rotation=90)\n",
    "plt.ylabel('GW')\n",
    "plt.grid(color='grey', linewidth=1, axis='both', alpha=0.5)\n",
    "plt.title('Battrey Energy storage')\n",
    "plt.show()"
   ]
  },
  {
   "cell_type": "code",
   "execution_count": null,
   "metadata": {},
   "outputs": [],
   "source": [
    "plt.figure(figsize=(19,11))\n",
    "plt.bar(network.storage_units.index[33:91], network.storage_units.p_nom_opt[33:91].div(1e3).values)\n",
    "\n",
    "plt.xticks(network.storage_units.index[33:91], rotation=90)\n",
    "plt.ylabel('GW')\n",
    "plt.grid(color='grey', linewidth=1, axis='both', alpha=0.5)\n",
    "plt.title('Compressed and Liquid air storage')\n",
    "plt.show()"
   ]
  },
  {
   "cell_type": "code",
   "execution_count": null,
   "metadata": {},
   "outputs": [],
   "source": [
    "plt.figure(figsize=(19,11))\n",
    "plt.bar(network.storage_units.index[91:120], network.storage_units.p_nom_opt[91:120].div(1e3).values)\n",
    "\n",
    "plt.xticks(network.storage_units.index[91:120], rotation=90)\n",
    "plt.ylabel('GW')\n",
    "plt.grid(color='grey', linewidth=1, axis='both', alpha=0.5)\n",
    "plt.title('P2G storage')\n",
    "plt.show()"
   ]
  },
  {
   "cell_type": "code",
   "execution_count": null,
   "metadata": {},
   "outputs": [],
   "source": [
    "plt.figure(figsize=(19,11))\n",
    "plt.bar(network.storage_units.index[120:150], network.storage_units.p_nom_opt[120:150].div(1e3).values)\n",
    "\n",
    "plt.xticks(network.storage_units.index[120:150], rotation=90)\n",
    "plt.ylabel('GW')\n",
    "plt.grid(color='grey', linewidth=1, axis='both', alpha=0.5)\n",
    "plt.title('STES')\n",
    "plt.show()"
   ]
  },
  {
   "cell_type": "markdown",
   "metadata": {},
   "source": [
    "## Power output by generation type"
   ]
  },
  {
   "cell_type": "markdown",
   "metadata": {},
   "source": [
    "Group the generators by the carrier, and print their summed power outputs over the simulation period."
   ]
  },
  {
   "cell_type": "code",
   "execution_count": null,
   "metadata": {},
   "outputs": [],
   "source": [
    "year=2022"
   ]
  },
  {
   "cell_type": "code",
   "execution_count": null,
   "metadata": {},
   "outputs": [],
   "source": [
    "p_by_carrier = network.generators_t.p.groupby(\n",
    "    network.generators.carrier, axis=1).sum()\n",
    "\n",
    "storage_by_carrier = network.storage_units_t.p.groupby(\n",
    "    network.storage_units.carrier, axis=1).sum()\n",
    "\n",
    "# to show on graph set the negative storage values to zero\n",
    "storage_by_carrier[storage_by_carrier < 0] = 0\n",
    "\n",
    "p_by_carrier = pd.concat([p_by_carrier, storage_by_carrier], axis=1)\n",
    "\n",
    "#imp = network.links_t.p0.copy()\n",
    "#imp[imp < 0] = 0\n",
    "#imp['Interconnectors Import'] = imp.sum(axis=1)\n",
    "#interconnector_import = imp[['Interconnectors Import']]\n",
    "\n",
    "#p_by_carrier = pd.concat([p_by_carrier, interconnector_import], axis=1)\n",
    "\n",
    "#exp = network.links_t.p0.copy()\n",
    "#exp[exp > 0] = 0\n",
    "#exp['Interconnectors Export'] = exp.sum(axis=1)\n",
    "#interconnector_export = exp[['Interconnectors Export']]\n",
    "\n",
    "# group biomass stuff\n",
    "p_by_carrier['Biomass'] = (\n",
    "    p_by_carrier['Biomass (dedicated)'] + p_by_carrier['Biomass (co-firing)'])\n",
    "\n",
    "# rename the hydro bit\n",
    "p_by_carrier = p_by_carrier.rename(\n",
    "    columns={'Large Hydro': 'Hydro'})\n",
    "p_by_carrier = p_by_carrier.rename(\n",
    "    columns={'Interconnector': 'Interconnectors Import'})\n",
    "\n",
    "generators_p_nom = network.generators.p_nom.groupby(\n",
    "    network.generators.carrier).sum().sort_values()\n",
    "if year > 2020:\n",
    "    generators_p_nom.drop('Unmet Load', inplace=True)\n",
    "generators_p_nom.drop(generators_p_nom[generators_p_nom < 50].index, inplace=True)\n",
    "\n",
    "plt.rcParams.update({'font.size': 12})\n",
    "# bar chart\n",
    "plt.figure(figsize=(10,4))\n",
    "plt.bar(generators_p_nom.index, generators_p_nom.values / 1000)\n",
    "plt.xticks(generators_p_nom.index, rotation=90)\n",
    "plt.ylabel('GW')\n",
    "plt.grid(color='grey', linewidth=1, axis='both', alpha=0.5)\n",
    "plt.title('Installed capacity in year ' + str(year))\n",
    "plt.show()"
   ]
  },
  {
   "cell_type": "markdown",
   "metadata": {},
   "source": [
    "Graph the power output of the different generation types..."
   ]
  },
  {
   "cell_type": "code",
   "execution_count": null,
   "metadata": {},
   "outputs": [],
   "source": [
    "#cols = [\"Nuclear\", 'Biomass',\n",
    "        #'Waste', \"Oil\", \"Natural Gas\",\n",
    "       # 'Hydrogen', 'CCS Gas', 'CCS Biomass',\n",
    "        #\"Pumped Storage Hydroelectric\", 'Hydro',\n",
    "        #'Battery', 'Compressed Air', 'Liquid Air',\n",
    "        #\"Wind Offshore\", 'Wind Onshore', 'Solar Photovoltaics',\n",
    "        #'Interconnectors Import', 'Unmet Load'\n",
    "       # ]\n",
    "# ignore the import/export since the the highvoltage links are disrgearded\n",
    "\n",
    "cols = [\"Nuclear\", 'Biomass',\n",
    "        'Waste', \"Oil\", \"Natural Gas\",\n",
    "        'Hydrogen', 'CCS Gas', 'CCS Biomass',\n",
    "        \"Pumped Storage Hydroelectric\", 'Hydro',\n",
    "        'Battery', 'Compressed Air', 'Liquid Air',\n",
    "        \"Wind Offshore\", 'Wind Onshore', 'Solar Photovoltaics',\n",
    "         'Unmet Load'\n",
    "        ]\n",
    "\n",
    "\n",
    "\n",
    "\n",
    "p_by_carrier = p_by_carrier[cols]\n",
    "\n",
    "p_by_carrier.drop(\n",
    "    (p_by_carrier.max()[p_by_carrier.max() < 50.0]).index,\n",
    "    axis=1, inplace=True)\n",
    "\n",
    "colors = {\"Coal\": \"grey\",\n",
    "          \"Diesel/Gas oil\": \"black\",\n",
    "          \"Diesel/gas Diesel/Gas oil\": \"black\",\n",
    "          'Oil': 'black',\n",
    "          'Unmet Load': 'black',\n",
    "          'Anaerobic Digestion': 'green',\n",
    "          'Waste': 'chocolate',\n",
    "          'Sewage Sludge Digestion': 'green',\n",
    "          'Landfill Gas': 'green',\n",
    "          'Biomass (dedicated)': 'green',\n",
    "          'Biomass (co-firing)': 'green',\n",
    "          'Biomass': 'green',\n",
    "          'CCS Biomass': 'darkgreen',\n",
    "          'Interconnectors Import': 'pink',\n",
    "          'B6 import': 'pink',\n",
    "          \"Sour gas\": \"lightcoral\",\n",
    "          \"Natural Gas\": \"lightcoral\",\n",
    "          'CCS Gas': \"lightcoral\",\n",
    "          'Hydrogen': \"deeppink\",\n",
    "          \"Nuclear\": \"orange\",\n",
    "          'Shoreline Wave': 'aqua',\n",
    "          'Tidal Barrage and Tidal Stream': 'aqua',\n",
    "          'Hydro': \"turquoise\",\n",
    "          \"Large Hydro\": \"turquoise\",\n",
    "          \"Small Hydro\": \"turquoise\",\n",
    "          \"Pumped Storage Hydroelectric\": \"darkturquoise\",\n",
    "          'Battery': 'lime',\n",
    "          'Compressed Air': 'greenyellow',\n",
    "          'Liquid Air': 'lawngreen',\n",
    "          \"Wind Offshore\": \"lightskyblue\",\n",
    "          'Wind Onshore': 'deepskyblue',\n",
    "          'Solar Photovoltaics': 'yellow'}\n",
    "\n",
    "fig, ax = plt.subplots(1, 1)\n",
    "fig.set_size_inches(15,10)\n",
    "(p_by_carrier / 1e3).plot(\n",
    "    kind=\"area\", ax=ax, linewidth=0,\n",
    "    color=[colors[col] for col in p_by_carrier.columns])\n",
    "\n",
    "# # stacked area plot of negative values, prepend column names with '_' such that they don't appear in the legend\n",
    "# (interconnector_export / 1e3).plot.area(ax=ax, stacked=True, linewidth=0.)\n",
    "# # rescale the y axis\n",
    "# ax.set_ylim([(interconnector_export / 1e3).sum(axis=1).min(), (p_by_carrier / 1e3).sum(axis=1).max()])\n",
    "\n",
    "# Shrink current axis's height by 10% on the bottom\n",
    "box = ax.get_position()\n",
    "ax.set_position([box.x0, box.y0 + box.height * 0.1,\n",
    "                 box.width, box.height * 0.9])\n",
    "\n",
    "# Put a legend below current axis\n",
    "ax.legend(loc='upper center', bbox_to_anchor=(0.52, -0.05),\n",
    "          fancybox=True, shadow=True, ncol=5)\n",
    "\n",
    "ax.set_ylabel(\"GW\")\n",
    "\n",
    "ax.set_xlabel(\"\")"
   ]
  },
  {
   "cell_type": "markdown",
   "metadata": {},
   "source": [
    "## Plotting storage"
   ]
  },
  {
   "cell_type": "markdown",
   "metadata": {},
   "source": [
    "Graph the pumped hydro dispatch and state of charge..."
   ]
  },
  {
   "cell_type": "code",
   "execution_count": null,
   "metadata": {},
   "outputs": [],
   "source": [
    "fig, ax = plt.subplots(1, 1)\n",
    "fig.set_size_inches(15,10)\n",
    "\n",
    "p_storage = network.storage_units_t.p.sum(axis=1)\n",
    "state_of_charge = network.storage_units_t.state_of_charge.sum(axis=1)\n",
    "p_storage.plot(label=\"Pumped hydro dispatch\", ax=ax, linewidth=3)\n",
    "state_of_charge.plot(label=\"State of charge\", ax=ax, linewidth=3)\n",
    "\n",
    "ax.legend()\n",
    "ax.grid()\n",
    "ax.set_ylabel(\"MWh\")\n",
    "ax.set_xlabel(\"\")"
   ]
  },
  {
   "cell_type": "markdown",
   "metadata": {},
   "source": [
    "## Plotting line loading"
   ]
  },
  {
   "cell_type": "markdown",
   "metadata": {},
   "source": [
    "Look at the line loading stats and graph..."
   ]
  },
  {
   "cell_type": "code",
   "execution_count": null,
   "metadata": {},
   "outputs": [],
   "source": [
    "now = network.snapshots[60]\n",
    "\n",
    "print(\"With the linear load flow, there is the following per unit loading:\")\n",
    "loading = network.lines_t.p0.loc[now] / network.lines.s_nom\n",
    "loading.describe()"
   ]
  },
  {
   "cell_type": "code",
   "execution_count": null,
   "metadata": {},
   "outputs": [],
   "source": [
    "fig, ax = plt.subplots(1, 1, subplot_kw={\"projection\": ccrs.PlateCarree()})\n",
    "fig.set_size_inches(15, 17)\n",
    "\n",
    "network.plot(ax=ax, line_colors=abs(loading), line_cmap=plt.cm.jet, title=\"Line loading\")"
   ]
  },
  {
   "cell_type": "markdown",
   "metadata": {},
   "source": [
    "## Plotting locational marginal prices"
   ]
  },
  {
   "cell_type": "code",
   "execution_count": null,
   "metadata": {},
   "outputs": [],
   "source": [
    "fig, ax = plt.subplots(1, 1, subplot_kw={\"projection\": ccrs.PlateCarree()})\n",
    "fig.set_size_inches(20, 10)\n",
    "\n",
    "network.plot(ax=ax, line_widths=pd.Series(0.5, network.lines.index))\n",
    "plt.hexbin(network.buses.x, network.buses.y,\n",
    "           gridsize=20,\n",
    "           C=network.buses_t.marginal_price.loc[now],\n",
    "           cmap=plt.cm.jet)\n",
    "\n",
    "# for some reason the colorbar only works with graphs plt.plot\n",
    "# and must be attached plt.colorbar\n",
    "\n",
    "cb = plt.colorbar()\n",
    "cb.set_label('Locational Marginal Price (£/MWh)')"
   ]
  },
  {
   "cell_type": "code",
   "execution_count": null,
   "metadata": {},
   "outputs": [],
   "source": [
    "network.buses_t.marginal_price"
   ]
  },
  {
   "cell_type": "markdown",
   "metadata": {},
   "source": [
    "## Plotting curtailment"
   ]
  },
  {
   "cell_type": "code",
   "execution_count": null,
   "metadata": {},
   "outputs": [],
   "source": [
    "carrier = \"Wind Onshore\"\n",
    "\n",
    "capacity = network.generators.groupby(\"carrier\").sum().at[carrier, \"p_nom\"]\n",
    "p_available = network.generators_t.p_max_pu.multiply(network.generators[\"p_nom\"])\n",
    "p_available_by_carrier = p_available.groupby(network.generators.carrier, axis=1).sum()\n",
    "p_curtailed_by_carrier = p_available_by_carrier - p_by_carrier\n",
    "p_df = pd.DataFrame({carrier + \" available\": p_available_by_carrier[carrier],\n",
    "                     carrier + \" dispatched\": p_by_carrier[carrier],\n",
    "                     carrier + \" curtailed\": p_curtailed_by_carrier[carrier]})\n",
    "\n",
    "p_df[carrier + \" capacity\"] = capacity\n",
    "p_df[\"Wind Onshore curtailed\"][p_df[\"Wind Onshore curtailed\"] < 0.] = 0.\n",
    "fig, ax = plt.subplots(1, 1)\n",
    "fig.set_size_inches(15,10)\n",
    "p_df[[carrier + \" dispatched\", carrier + \" curtailed\"]].plot(kind=\"area\", ax=ax, linewidth=0)\n",
    "# p_df[[carrier + \" available\", carrier + \" capacity\"]].plot(ax=ax, linewidth=0)\n",
    "\n",
    "ax.set_xlabel(\"\")\n",
    "ax.set_ylabel(\"Power [MW]\")\n",
    "ax.legend()"
   ]
  },
  {
   "cell_type": "code",
   "execution_count": null,
   "metadata": {},
   "outputs": [],
   "source": []
  }
 ],
 "metadata": {
  "kernelspec": {
   "display_name": "Python 3 (ipykernel)",
   "language": "python",
   "name": "python3"
  },
  "language_info": {
   "codemirror_mode": {
    "name": "ipython",
    "version": 3
   },
   "file_extension": ".py",
   "mimetype": "text/x-python",
   "name": "python",
   "nbconvert_exporter": "python",
   "pygments_lexer": "ipython3",
   "version": "3.8.5"
  },
  "vscode": {
   "interpreter": {
    "hash": "0a362b17abcd2c031329e78f98409aa17fadf72082aebdc1d10da213122c16a7"
   }
  }
 },
 "nbformat": 4,
 "nbformat_minor": 4
}
