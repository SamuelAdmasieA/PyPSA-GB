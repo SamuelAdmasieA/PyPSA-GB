{
 "cells": [
  {
   "cell_type": "code",
   "execution_count": 1,
   "id": "e32c9456",
   "metadata": {},
   "outputs": [],
   "source": [
    "import os\n",
    "from dotenv import find_dotenv, load_dotenv\n",
    "\n",
    "load_dotenv(find_dotenv())\n",
    "src_path = os.environ.get('PROJECT_SRC')\n",
    "os.chdir(src_path)"
   ]
  },
  {
   "cell_type": "code",
   "execution_count": 2,
   "id": "2eddeefe",
   "metadata": {},
   "outputs": [],
   "source": [
    "import pypsa\n",
    "import matplotlib.pyplot as plt\n",
    "plt.rcParams.update({'font.size': 22})\n",
    "plt.style.use('ggplot')\n",
    "import pandas as pd\n",
    "import cartopy.crs as ccrs\n",
    "import data_reader_writer"
   ]
  },
  {
   "cell_type": "code",
   "execution_count": 3,
   "id": "7e0922d9",
   "metadata": {},
   "outputs": [],
   "source": [
    "# write csv files for import\n",
    "start = '2035-01-01 00:00:00'\n",
    "end = '2035-12-31 23:00:00'\n",
    "# year of simulation\n",
    "year = int(start[0:4])\n",
    "# time step as fraction of hour\n",
    "time_step = 1"
   ]
  },
  {
   "cell_type": "code",
   "execution_count": 4,
   "id": "cbd5219b",
   "metadata": {},
   "outputs": [],
   "source": [
    "year_baseline = 2012"
   ]
  },
  {
   "cell_type": "code",
   "execution_count": 5,
   "id": "ac8bcbb0",
   "metadata": {},
   "outputs": [],
   "source": [
    "scenario = 'Leading The Way'\n",
    "# scenario = 'Consumer Transformation'\n",
    "# scenario = 'System Transformation'\n",
    "# scenario = 'Steady Progression'"
   ]
  },
  {
   "cell_type": "code",
   "execution_count": 6,
   "id": "fccef027",
   "metadata": {},
   "outputs": [
    {
     "name": "stderr",
     "output_type": "stream",
     "text": [
      "C:\\Users\\salene\\Anaconda3\\envs\\PyPSA-GB\\lib\\site-packages\\pandas\\core\\arrays\\datetimes.py:741: PerformanceWarning: Non-vectorized DateOffset being applied to Series or DatetimeIndex\n",
      "  warnings.warn(\n",
      "C:\\Users\\salene\\Anaconda3\\envs\\PyPSA-GB\\lib\\site-packages\\pandas\\core\\indexing.py:1667: PerformanceWarning: DataFrame is highly fragmented.  This is usually the result of calling `frame.insert` many times, which has poor performance.  Consider joining all columns at once using pd.concat(axis=1) instead.  To get a de-fragmented frame, use `newframe = frame.copy()`\n",
      "  self.obj[key] = value\n",
      "C:\\Users\\salene\\Desktop\\WholeEnergySystemModelling_New\\PyPSA-GB\\PyPSA-GB\\interconnectors.py:207: UserWarning: This pattern has match groups. To actually get the groups, use str.extract.\n",
      "  df_FES = df_FES[~df_FES.Variable.str.contains('(TWh)')]\n"
     ]
    }
   ],
   "source": [
    "data_reader_writer.data_writer(start, end, time_step, year, demand_dataset='eload', year_baseline=year_baseline,\n",
    "                               scenario=scenario, FES=2022, merge_generators=True, scale_to_peak=True,\n",
    "                               networkmodel='Reduced', P2G=True)"
   ]
  },
  {
   "cell_type": "code",
   "execution_count": null,
   "id": "44eec85d",
   "metadata": {},
   "outputs": [],
   "source": []
  }
 ],
 "metadata": {
  "kernelspec": {
   "display_name": "PyPSA-GB",
   "language": "python",
   "name": "pypsa-gb"
  },
  "language_info": {
   "codemirror_mode": {
    "name": "ipython",
    "version": 3
   },
   "file_extension": ".py",
   "mimetype": "text/x-python",
   "name": "python",
   "nbconvert_exporter": "python",
   "pygments_lexer": "ipython3",
   "version": "3.8.5"
  }
 },
 "nbformat": 4,
 "nbformat_minor": 5
}
