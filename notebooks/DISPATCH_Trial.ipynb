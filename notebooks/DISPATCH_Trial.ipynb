{
 "cells": [
  {
   "cell_type": "code",
   "execution_count": 1,
   "id": "2ae8b7df",
   "metadata": {},
   "outputs": [],
   "source": [
    "import sys, os\n",
    "import pandas as pd\n",
    "import numpy as np\n",
    "import pypsa"
   ]
  },
  {
   "cell_type": "code",
   "execution_count": 2,
   "id": "f0232a8e",
   "metadata": {},
   "outputs": [],
   "source": [
    "D_network=pypsa.Network()"
   ]
  },
  {
   "cell_type": "markdown",
   "id": "27bdf2fb",
   "metadata": {},
   "source": [
    "Let us model a six bus network\n"
   ]
  },
  {
   "cell_type": "code",
   "execution_count": 3,
   "id": "31037974",
   "metadata": {},
   "outputs": [],
   "source": [
    "D_network.add('Bus','bus 1',v_nom=230,carrier='AC',v_mag_pu_set=1.0,v_mag_pu_min=1.05,v_mag_pu_max=1.05,control='Slack')\n",
    "D_network.add('Bus','bus 2',v_nom=230,carrier='AC',v_mag_pu_set=1.0,v_mag_pu_min=1.05,v_mag_pu_max=1.05,control='PV')\n",
    "D_network.add('Bus','bus 3',v_nom=230,carrier='AC',v_mag_pu_set=1.0,v_mag_pu_min=1.07,v_mag_pu_max=1.07,control='PV')\n",
    "D_network.add('Bus','bus 4',v_nom=230,carrier='AC',v_mag_pu_set=1.0,v_mag_pu_min=1.05,v_mag_pu_max=0.95,control='PQ')\n",
    "D_network.add('Bus','bus 5',v_nom=230,carrier='AC',v_mag_pu_set=1.0,v_mag_pu_min=1.05,v_mag_pu_max=0.95,control='PQ')\n",
    "D_network.add('Bus','bus 6',v_nom=230,carrier='AC',v_mag_pu_set=1.0,v_mag_pu_min=1.05,v_mag_pu_max=0.95,control='PQ')\n"
   ]
  },
  {
   "cell_type": "code",
   "execution_count": 4,
   "id": "e5a6813b",
   "metadata": {},
   "outputs": [],
   "source": [
    "D_network.add('Line','line 1',bus0='bus 1',bus1='bus 2',r=0.1,x=0.2,b=0.04,s_nom=40)\n",
    "D_network.add('Line','line 2',bus0='bus 1',bus1='bus 4',r=0.05,x=0.2,b=0.04,s_nom=40)\n",
    "D_network.add('Line','line 3',bus0='bus 1',bus1='bus 5',r=0.1,x=0.2,b=0.04,s_nom=40)\n",
    "D_network.add('Line','line 4',bus0='bus 2',bus1='bus 3',r=0.1,x=0.2,b=0.04,s_nom=40)\n",
    "D_network.add('Line','line 5',bus0='bus 2',bus1='bus 4',r=0.1,x=0.2,b=0.04,s_nom=40)\n",
    "D_network.add('Line','line 6',bus0='bus 2',bus1='bus 5',r=0.1,x=0.2,b=0.04,s_nom=40)\n",
    "D_network.add('Line','line 7',bus0='bus 2',bus1='bus 6',r=0.1,x=0.2,b=0.04,s_nom=40)\n",
    "D_network.add('Line','line 8',bus0='bus 3',bus1='bus 5',r=0.1,x=0.2,b=0.04,s_nom=40)\n",
    "D_network.add('Line','line 9',bus0='bus 3',bus1='bus 6',r=0.1,x=0.2,b=0.04,s_nom=40)\n",
    "D_network.add('Line','line 10',bus0='bus 4',bus1='bus 5',r=0.1,x=0.2,b=0.04,s_nom=40)\n",
    "D_network.add('Line','line 11',bus0='bus 5',bus1='bus 6',r=0.1,x=0.2,b=0.04,s_nom=40)"
   ]
  },
  {
   "cell_type": "code",
   "execution_count": 5,
   "id": "1a827f95",
   "metadata": {},
   "outputs": [
    {
     "data": {
      "text/plain": [
       "Index(['bus', 'control', 'type', 'p_nom', 'p_nom_extendable', 'p_nom_min',\n",
       "       'p_nom_max', 'p_min_pu', 'p_max_pu', 'p_set', 'q_set', 'sign',\n",
       "       'carrier', 'marginal_cost', 'build_year', 'lifetime', 'capital_cost',\n",
       "       'efficiency', 'committable', 'start_up_cost', 'shut_down_cost',\n",
       "       'min_up_time', 'min_down_time', 'up_time_before', 'down_time_before',\n",
       "       'ramp_limit_up', 'ramp_limit_down', 'ramp_limit_start_up',\n",
       "       'ramp_limit_shut_down', 'p_nom_opt'],\n",
       "      dtype='object', name='attribute')"
      ]
     },
     "execution_count": 5,
     "metadata": {},
     "output_type": "execute_result"
    }
   ],
   "source": [
    "D_network.generators.columns"
   ]
  },
  {
   "cell_type": "code",
   "execution_count": 6,
   "id": "9e8b1b8a",
   "metadata": {},
   "outputs": [],
   "source": [
    "D_network.add('Generator','Gen 1',bus='bus 1',control='slack',p_nom=0,p_nom_extendable=True)\n",
    "D_network.add('Generator','Gen 2',bus='bus 2',control='PV',p_nom=0,p_nom_extendable=True)\n",
    "D_network.add('Generator','Gen 3',bus='bus 3',control='PV',p_nom=0,p_nom_extendable=True)\n"
   ]
  },
  {
   "cell_type": "code",
   "execution_count": 8,
   "id": "6d04b7dc",
   "metadata": {},
   "outputs": [],
   "source": [
    "D_network.add('Load','load 1',bus='bus 4',carrier='AC',p_set=70,q_set=70)\n",
    "D_network.add('Load','load 2',bus='bus 5',carrier='AC',p_set=70,q_set=70)\n",
    "D_network.add('Load','load 3',bus='bus 6',carrier='AC',p_set=70,q_set=70)"
   ]
  },
  {
   "cell_type": "code",
   "execution_count": 14,
   "id": "1137a246",
   "metadata": {},
   "outputs": [
    {
     "data": {
      "text/plain": [
       "Index(['bus0', 'bus1', 'type', 'carrier', 'efficiency', 'build_year',\n",
       "       'lifetime', 'p_nom', 'p_nom_extendable', 'p_nom_min', 'p_nom_max',\n",
       "       'p_set', 'p_min_pu', 'p_max_pu', 'capital_cost', 'marginal_cost',\n",
       "       'length', 'terrain_factor', 'committable', 'start_up_cost',\n",
       "       'shut_down_cost', 'min_up_time', 'min_down_time', 'up_time_before',\n",
       "       'down_time_before', 'ramp_limit_up', 'ramp_limit_down',\n",
       "       'ramp_limit_start_up', 'ramp_limit_shut_down', 'p_nom_opt'],\n",
       "      dtype='object', name='attribute')"
      ]
     },
     "execution_count": 14,
     "metadata": {},
     "output_type": "execute_result"
    }
   ],
   "source": [
    "D_network.links.columns"
   ]
  },
  {
   "cell_type": "markdown",
   "id": "82ba9f1c",
   "metadata": {},
   "source": [
    "Adding the heating network, let us add a heat bus and a heat load"
   ]
  },
  {
   "cell_type": "code",
   "execution_count": 10,
   "id": "20b2309d",
   "metadata": {},
   "outputs": [],
   "source": [
    "D_network.add('Bus','house 1',carrier='heat')\n",
    "D_network.add('Load','heating load 1',bus='house 1',carrier='heat',p_set=100)\n",
    "D_network.add('Link','Heat pump',bus0='bus 4',bus1='house 1',carrier='heat',efficiency=0.8)"
   ]
  },
  {
   "cell_type": "code",
   "execution_count": 12,
   "id": "219e8146",
   "metadata": {},
   "outputs": [],
   "source": [
    "D_network.consistency_check()"
   ]
  },
  {
   "cell_type": "code",
   "execution_count": 13,
   "id": "777795f6",
   "metadata": {},
   "outputs": [
    {
     "name": "stderr",
     "output_type": "stream",
     "text": [
      "<__array_function__ internals>:200: RuntimeWarning: invalid value encountered in cast\n",
      "INFO:linopy.model: Solve linear problem using Gurobi solver\n"
     ]
    },
    {
     "name": "stdout",
     "output_type": "stream",
     "text": [
      "Set parameter Username\n",
      "Academic license - for non-commercial use only - expires 2024-02-29\n",
      "Read LP format model from file C:\\Users\\salene\\AppData\\Local\\Temp\\linopy-problem-89as3i7n.lp\n",
      "Reading time = 0.00 seconds\n",
      "obj: 46 rows, 18 columns, 81 nonzeros\n",
      "Gurobi Optimizer version 10.0.1 build v10.0.1rc0 (win64)\n",
      "\n",
      "CPU model: 11th Gen Intel(R) Core(TM) i7-1185G7 @ 3.00GHz, instruction set [SSE2|AVX|AVX2|AVX512]\n",
      "Thread count: 4 physical cores, 8 logical processors, using up to 8 threads\n",
      "\n",
      "Optimize a model with 46 rows, 18 columns and 81 nonzeros\n",
      "Model fingerprint: 0xa4946796\n",
      "Coefficient statistics:\n",
      "  Matrix range     [4e-01, 1e+00]\n",
      "  Objective range  [0e+00, 0e+00]\n",
      "  Bounds range     [0e+00, 0e+00]\n",
      "  RHS range        [4e+01, 1e+02]\n",
      "Presolve removed 6 rows and 3 columns\n",
      "Presolve time: 0.00s\n",
      "\n",
      "Solved in 0 iterations and 0.01 seconds (0.00 work units)\n",
      "Infeasible model\n"
     ]
    },
    {
     "name": "stderr",
     "output_type": "stream",
     "text": [
      "WARNING:linopy.constants:Optimization failed: \n",
      "Status: warning\n",
      "Termination condition: infeasible\n",
      "Solution: 0 primals, 0 duals\n",
      "Objective: nan\n",
      "Solver model: available\n",
      "Solver message: 3\n",
      "\n"
     ]
    },
    {
     "data": {
      "text/plain": [
       "('warning', 'infeasible')"
      ]
     },
     "execution_count": 13,
     "metadata": {},
     "output_type": "execute_result"
    }
   ],
   "source": [
    "D_network.optimize(solver_name='gurobi')"
   ]
  }
 ],
 "metadata": {
  "kernelspec": {
   "display_name": "PyPSA-GB",
   "language": "python",
   "name": "pypsa-gb"
  },
  "language_info": {
   "codemirror_mode": {
    "name": "ipython",
    "version": 3
   },
   "file_extension": ".py",
   "mimetype": "text/x-python",
   "name": "python",
   "nbconvert_exporter": "python",
   "pygments_lexer": "ipython3",
   "version": "3.8.5"
  }
 },
 "nbformat": 4,
 "nbformat_minor": 5
}
